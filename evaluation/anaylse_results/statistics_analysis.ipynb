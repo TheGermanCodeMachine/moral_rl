{
 "cells": [
  {
   "cell_type": "markdown",
   "metadata": {},
   "source": [
    "# Analysing and comparing statistics of different generation methods"
   ]
  },
  {
   "cell_type": "code",
   "execution_count": 2,
   "metadata": {},
   "outputs": [],
   "source": [
    "import numpy as np\n",
    "import torch\n",
    "import matplotlib.pyplot as plt\n",
    "import pickle as pkl\n",
    "from tabulate import tabulate"
   ]
  },
  {
   "cell_type": "code",
   "execution_count": 3,
   "metadata": {},
   "outputs": [],
   "source": [
    "# Load the statistics\n",
    "path_random = '..\\..\\datasets\\\\100random\\\\100\\statistics' \n",
    "random_efficiencies = pkl.load(open(path_random + \"\\effiencies.pkl\", 'rb'))\n",
    "length_cf_random = pkl.load(open(path_random + \"\\lengths_cf.pkl\", 'rb'))\n",
    "length_org_random = pkl.load(open(path_random + \"\\lengths_org.pkl\", 'rb'))\n",
    "start_points_random = pkl.load(open(path_random + \"\\start_points.pkl\", 'rb'))\n",
    "\n",
    "path_step = '..\\..\\datasets\\\\100step\\\\100\\statistics'\n",
    "step_efficiencies = pkl.load(open(path_step + \"\\effiencies.pkl\", 'rb'))[:100]\n",
    "length_cf_step = pkl.load(open(path_step + \"\\lengths_cf.pkl\", 'rb'))[:100]\n",
    "length_org_step = pkl.load(open(path_step + \"\\lengths_org.pkl\", 'rb'))[:100]\n",
    "start_points_step = pkl.load(open(path_step + \"\\start_points.pkl\", 'rb'))[:100]\n",
    "\n",
    "path_mcts = '..\\..\\datasets\\\\100mcts\\\\100\\statistics'\n",
    "mcts_efficiencies = pkl.load(open(path_mcts + \"\\effiencies.pkl\", 'rb'))\n",
    "length_cf_mcts = pkl.load(open(path_mcts + \"\\lengths_cf.pkl\", 'rb'))\n",
    "length_org_mcts = pkl.load(open(path_mcts + \"\\lengths_org.pkl\", 'rb'))\n",
    "start_points_mcts = pkl.load(open(path_mcts + \"\\start_points.pkl\", 'rb'))"
   ]
  },
  {
   "cell_type": "code",
   "execution_count": 12,
   "metadata": {},
   "outputs": [],
   "source": [
    "weight = {'validity': 1, 'proximity': 1, 'critical_state': 0.5, 'diversity': 0.5, 'realisticness': 0.2, 'sparsity': 0.5}\n",
    "with open('..\\..\\interpretability\\\\normalisation_values.pkl', 'rb') as f:\n",
    "    normalisation = pkl.load(f)\n",
    "\n",
    "mcts_prox, step_prox, random_prox = [], [], []\n",
    "mcts_val, step_val, random_val = [], [], []\n",
    "mcts_div, step_div, random_div = [], [], []\n",
    "mcts_crit, step_crit, random_crit = [], [], []\n",
    "mcts_real, step_real, random_real = [], [], []\n",
    "mcts_spar, step_spar, random_spar = [], [], []\n",
    "mcts_qc, step_qc, random_qc = [], [], []\n",
    "\n",
    "with open('..\\..\\interpretability\\logs\\qc_comparison2.txt', 'r') as f:\n",
    "    for line in f:\n",
    "        parts = line.split(' ')\n",
    "        if 'validity' in line:\n",
    "            mcts_val.append(float(parts[1]) / normalisation['validity'] * weight['validity'])\n",
    "            step_val.append(float(parts[2]) / normalisation['validity'] * weight['validity'])\n",
    "            random_val.append(float(parts[3]) / normalisation['validity'] * weight['validity'])\n",
    "        elif 'diversity' in line:\n",
    "            mcts_div.append(float(parts[1]) / normalisation['diversity'] * weight['diversity'])\n",
    "            step_div.append(float(parts[2]) / normalisation['diversity'] * weight['diversity'])\n",
    "            random_div.append(float(parts[3]) / normalisation['diversity'] * weight['diversity'])\n",
    "        elif 'proximity' in line:\n",
    "            mcts_prox.append(- float(parts[1]) / normalisation['proximity'] * weight['proximity'])\n",
    "            step_prox.append(-float(parts[2]) / normalisation['proximity'] * weight['proximity'])\n",
    "            random_prox.append(-float(parts[3]) / normalisation['proximity'] * weight['proximity'])\n",
    "        elif 'critical' in line:\n",
    "            mcts_crit.append(float(parts[1]) / normalisation['critical_state'] * weight['critical_state'])\n",
    "            step_crit.append(float(parts[2]) / normalisation['critical_state'] * weight['critical_state'])\n",
    "            random_crit.append(float(parts[3]) / normalisation['critical_state'] * weight['critical_state'])\n",
    "        elif 'realistic' in line:\n",
    "            mcts_real.append(float(parts[1])   / normalisation['realisticness'] * weight['realisticness'])\n",
    "            step_real.append(float(parts[2])   / normalisation['realisticness'] * weight['realisticness'])\n",
    "            random_real.append(float(parts[3]) / normalisation['realisticness'] * weight['realisticness'])\n",
    "        elif 'sparsity' in line:\n",
    "            mcts_spar.append(float(parts[1]) / normalisation['sparsity'] * weight['sparsity'])\n",
    "            step_spar.append(float(parts[2]) / normalisation['sparsity'] * weight['sparsity'])\n",
    "            random_spar.append(float(parts[3]) / normalisation['sparsity'] * weight['sparsity'])\n",
    "qc_mcts = [sum(x) for x in zip(mcts_prox, mcts_val, mcts_div, mcts_crit, mcts_real, mcts_spar)]\n",
    "qc_step = [sum(x) for x in zip(step_prox, step_val, step_div, step_crit, step_real, step_spar)]\n",
    "qc_random = [sum(x) for x in zip(random_prox, random_val, random_div, random_crit, random_real, random_spar)]"
   ]
  },
  {
   "cell_type": "code",
   "execution_count": 13,
   "metadata": {},
   "outputs": [
    {
     "name": "stdout",
     "output_type": "stream",
     "text": [
      "statistics    mcts        step        random\n",
      "------------  ----------  ----------  ----------\n",
      "efficiency    54.48       7.61        5.34\n",
      "length cf     2.01        6.08        6.91\n",
      "length org    2.01        5.43        6.77\n",
      "start points  24.34       20.71       40.38\n",
      "----------    ----------  ----------  ----------\n",
      "validity      1.25        2.3         0.8\n",
      "proximity     -1.79       -1.5        -1.48\n",
      "diversity     0.39        0.45        0.59\n",
      "critical      -0.71       -1.19       -2.53\n",
      "realistic     0.1         0.27        0.06\n",
      "sparsity      -0.29       -1.41       -1.27\n",
      "qc            -1.05       -1.08       -3.83\n"
     ]
    }
   ],
   "source": [
    "table = [\n",
    "    ['statistics'] + ['mcts'] + ['step'] + ['random'],\n",
    "    ['efficiency'] + [round(np.mean(mcts_efficiencies), 2)] + [round(np.mean(step_efficiencies), 2)] + [round(np.mean(random_efficiencies), 2)],\n",
    "    ['length cf'] + [round(np.mean(length_cf_mcts), 2)] + [round(np.mean(length_cf_step), 2)] + [round(np.mean(length_cf_random), 2)],\n",
    "    ['length org'] + [round(np.mean(length_org_mcts), 2)] + [round(np.mean(length_org_step), 2)] + [round(np.mean(length_org_random), 2)],\n",
    "    ['start points'] + [round(np.mean(start_points_mcts), 2)] + [round(np.mean(start_points_step), 2)] + [round(np.mean(start_points_random), 2)],\n",
    "     ['----------'] + ['----------'] + ['----------'] + ['----------'],\n",
    "    ['validity'] + [round(np.mean(mcts_val), 2)] + [round(np.mean(step_val), 2)] + [round(np.mean(random_val), 2)],\n",
    "    ['proximity'] + [round(np.mean(mcts_prox), 2)] + [round(np.mean(step_prox), 2)] + [round(np.mean(random_prox), 2)],\n",
    "    ['diversity'] + [round(np.mean(mcts_div), 2)] + [round(np.mean(step_div), 2)] + [round(np.mean(random_div), 2)],\n",
    "    ['critical'] + [round(np.mean(mcts_crit), 2)] + [round(np.mean(step_crit), 2)] + [round(np.mean(random_crit), 2)],\n",
    "    ['realistic'] + [round(np.mean(mcts_real), 2)] + [round(np.mean(step_real), 2)] + [round(np.mean(random_real), 2)],\n",
    "    ['sparsity'] + [round(np.mean(mcts_spar), 2)] + [round(np.mean(step_spar), 2)] + [round(np.mean(random_spar), 2)],\n",
    "    ['qc'] + [round(np.mean(qc_mcts), 2)] + [round(np.mean(qc_step), 2)] + [round(np.mean(qc_random), 2)]\n",
    "]\n",
    "\n",
    "print(tabulate(table, headers='firstrow'))"
   ]
  },
  {
   "cell_type": "markdown",
   "metadata": {},
   "source": [
    "### Observations\n",
    "\n",
    "MCTS is by far the slowest. This makes sense, because it considers many more options.\n",
    "\n",
    "MCTS makes much shorter trajectories (basically always minimum length). This indicates \n",
    "- that diversity is not properly optimised for\n",
    "- the quality criteria are not traded-off well against each other\n",
    "\n",
    "The length of MCTS org and cf trajectories are the same (this is built into the method), while step and random have different lengths.\n",
    "- These are differences in when I decide to end the trajectories. A good ablation would make try to reduce these effect by e.g. ending originals of step at the same timestep as the cf\n",
    "\n",
    "For step the trajectories in the counterfactual are longer than the originals. Maybe this is built in to the method? But I think it's more likely the byproduct of some quality criteria incentivising this difference in lengths.\n",
    "\n",
    "MCTS starts slightly later than step. Random starts much later because it has uniformly distributed starting points.\n",
    "\n",
    "### Quality Criteria\n"
   ]
  },
  {
   "cell_type": "markdown",
   "metadata": {},
   "source": [
    "# Analysing quality criterias\n",
    "\n",
    "I will visualize the distribution of quality criteria"
   ]
  },
  {
   "cell_type": "code",
   "execution_count": 14,
   "metadata": {},
   "outputs": [
    {
     "data": {
      "text/plain": [
       "Text(0.5, 1.0, 'Quality Criteria Random')"
      ]
     },
     "execution_count": 14,
     "metadata": {},
     "output_type": "execute_result"
    },
    {
     "data": {
      "image/png": "[encoded data removed]",
      "text/plain": [
       "<Figure size 2160x720 with 3 Axes>"
      ]
     },
     "metadata": {
      "needs_background": "light"
     },
     "output_type": "display_data"
    }
   ],
   "source": [
    "number_of_points = 10\n",
    "\n",
    "zipped_mcts = [(mcts_val[i], mcts_prox[i], mcts_div[i], mcts_crit[i], mcts_real[i], mcts_spar[i], qc_mcts[i]) for i in range(number_of_points)]\n",
    "zipped_step = [(step_val[i], step_prox[i], step_div[i], step_crit[i], step_real[i], step_spar[i], qc_step[i]) for i in range(number_of_points)]\n",
    "zipped_random = [(random_val[i], random_prox[i], random_div[i], random_crit[i], random_real[i], random_spar[i], qc_random[i]) for i in range(number_of_points)]\n",
    "\n",
    "plt.figure(figsize=(30, 10))\n",
    "plt.subplot(1,3,1)\n",
    "# set range of y-axis to [-8, 5]\n",
    "plt.ylim(-8, 5)\n",
    "for i in range(number_of_points):\n",
    "    plt.scatter(['validity', 'proximity', 'diversity', 'critical', 'realistic', 'sparsity', 'qc'], zipped_mcts[i])\n",
    "plt.title('Quality Criteria MCTS')\n",
    "\n",
    "plt.subplot(1,3,2)\n",
    "plt.ylim(-8, 5)\n",
    "for i in range(number_of_points):\n",
    "    plt.scatter(['validity', 'proximity', 'diversity', 'critical', 'realistic', 'sparsity', 'qc'], zipped_step[i])\n",
    "plt.title('Quality Criteria 1-step deviation')\n",
    "\n",
    "\n",
    "plt.subplot(1,3,3)\n",
    "plt.ylim(-8, 5)\n",
    "for i in range(number_of_points):\n",
    "    plt.scatter(['validity', 'proximity', 'diversity', 'critical', 'realistic', 'sparsity', 'qc'], zipped_random[i])\n",
    "plt.title('Quality Criteria Random')\n"
   ]
  },
  {
   "cell_type": "code",
   "execution_count": 15,
   "metadata": {},
   "outputs": [
    {
     "name": "stdout",
     "output_type": "stream",
     "text": [
      "statistics      mcts mean    mcts std    step mean    step std    random mean    random std\n",
      "------------  -----------  ----------  -----------  ----------  -------------  ------------\n",
      "validity             1.25        0.96         2.3         1.47           0.8           0.87\n",
      "proximity           -1.79        0.48        -1.5         0.88          -1.48          1.09\n",
      "diversity            0.39        0.29         0.45        0.51           0.59          0.5\n",
      "critical            -0.71        0.44        -1.19        0.9           -2.53          0.93\n",
      "realistic            0.1         0.26         0.27        0.49           0.06          0.35\n",
      "sparsity            -0.29        0.01        -1.41        1.82          -1.27          0.78\n",
      "qc                  -1.05        1.49        -1.08        1.8           -3.83          1.7\n",
      "39\n",
      "2.4990973803317194 -8.571911645527301\n",
      "2.8838986128353876 -4.563430289458793\n",
      "-0.05796851335157149 -9.279113969438772\n"
     ]
    }
   ],
   "source": [
    "# print the average and standard deviation of the statistics\n",
    "table = [\n",
    "    ['statistics'] + ['mcts mean'] + ['mcts std'] + ['step mean'] + ['step std'] + ['random mean'] + ['random std'],\n",
    "    ['validity'] + [round(np.mean(mcts_val), 2), round(np.std(mcts_val), 2)] + [round(np.mean(step_val), 2), round(np.std(step_val), 2)] + [round(np.mean(random_val), 2), round(np.std(random_val), 2)],\n",
    "    ['proximity'] + [round(np.mean(mcts_prox), 2), round(np.std(mcts_prox), 2)] + [round(np.mean(step_prox), 2), round(np.std(step_prox), 2)] + [round(np.mean(random_prox), 2), round(np.std(random_prox), 2)],\n",
    "    ['diversity'] + [round(np.mean(mcts_div), 2), round(np.std(mcts_div), 2)] + [round(np.mean(step_div), 2), round(np.std(step_div), 2)] + [round(np.mean(random_div), 2), round(np.std(random_div), 2)],\n",
    "    ['critical'] + [round(np.mean(mcts_crit), 2), round(np.std(mcts_crit), 2)] + [round(np.mean(step_crit), 2), round(np.std(step_crit), 2)] + [round(np.mean(random_crit), 2), round(np.std(random_crit), 2)],\n",
    "    ['realistic'] + [round(np.mean(mcts_real), 2), round(np.std(mcts_real), 2)] + [round(np.mean(step_real), 2), round(np.std(step_real), 2)] + [round(np.mean(random_real), 2), round(np.std(random_real), 2)],\n",
    "    ['sparsity'] + [round(np.mean(mcts_spar), 2), round(np.std(mcts_spar), 2)] + [round(np.mean(step_spar), 2), round(np.std(step_spar), 2)] + [round(np.mean(random_spar), 2), round(np.std(random_spar), 2)],\n",
    "    ['qc'] + [round(np.mean(qc_mcts), 2), round(np.std(qc_mcts), 2)] + [round(np.mean(qc_step), 2), round(np.std(qc_step), 2)] + [round(np.mean(qc_random), 2), round(np.std(qc_random), 2)]\n",
    "]\n",
    "\n",
    "print(tabulate(table, headers='firstrow'))\n",
    "# index of the highest qc_step\n",
    "print(qc_step.index(max(qc_step)))\n",
    "print(max(qc_step), min(qc_step))\n",
    "print(max(qc_mcts), min(qc_mcts))\n",
    "print(max(qc_random), min(qc_random))\n"
   ]
  },
  {
   "cell_type": "markdown",
   "metadata": {},
   "source": [
    "### Observations\n",
    "Step has a higher significantly variance in it's quality criteria than MCTS.\n",
    "\n",
    "**Proximity** Both mcts and step don't do a great job at optimising for proximity. They are both worse than the random trajectories.\n",
    "\n",
    "MCTS does worst at diversity and best and critical. This makes sense since they are built into the method.\n",
    "\n",
    "Overall MCTS slightly outperforms Step, but at the cost of 10x computational time.\n",
    "\n"
   ]
  }
 ],
 "metadata": {
  "kernelspec": {
   "display_name": "Python 3",
   "language": "python",
   "name": "python3"
  },
  "language_info": {
   "codemirror_mode": {
    "name": "ipython",
    "version": 3
   },
   "file_extension": ".py",
   "mimetype": "text/x-python",
   "name": "python",
   "nbconvert_exporter": "python",
   "pygments_lexer": "ipython3",
   "version": "3.9.1"
  },
  "orig_nbformat": 4
 },
 "nbformat": 4,
 "nbformat_minor": 2
}
