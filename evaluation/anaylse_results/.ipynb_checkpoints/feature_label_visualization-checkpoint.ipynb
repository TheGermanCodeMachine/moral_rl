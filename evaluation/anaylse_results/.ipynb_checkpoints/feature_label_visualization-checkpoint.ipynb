{
 "cells": [
  {
   "cell_type": "code",
   "execution_count": 1,
   "metadata": {},
   "outputs": [
    {
     "name": "stdout",
     "output_type": "stream",
     "text": [
      "Hello world\n"
     ]
    }
   ],
   "source": [
    "print('Hello world')"
   ]
  },
  {
   "cell_type": "code",
   "execution_count": 2,
   "metadata": {},
   "outputs": [],
   "source": [
    "import pickle as pkl\n",
    "import numpy as np\n",
    "import matplotlib.pyplot as plt"
   ]
  },
  {
   "cell_type": "code",
   "execution_count": 3,
   "metadata": {},
   "outputs": [
    {
     "ename": "FileNotFoundError",
     "evalue": "[Errno 2] No such file or directory: 'datasets\\\\100mcts\\\\baseline\\\\cf_features.pkl'",
     "output_type": "error",
     "traceback": [
      "\u001b[1;31m---------------------------------------------------------------------------\u001b[0m",
      "\u001b[1;31mFileNotFoundError\u001b[0m                         Traceback (most recent call last)",
      "\u001b[1;32m<ipython-input-3-d64bfa559e51>\u001b[0m in \u001b[0;36m<module>\u001b[1;34m\u001b[0m\n\u001b[0;32m      1\u001b[0m \u001b[1;31m# Load the data\u001b[0m\u001b[1;33m\u001b[0m\u001b[1;33m\u001b[0m\u001b[1;33m\u001b[0m\u001b[0m\n\u001b[1;32m----> 2\u001b[1;33m \u001b[1;32mwith\u001b[0m \u001b[0mopen\u001b[0m\u001b[1;33m(\u001b[0m\u001b[1;34m'datasets\\\\100mcts\\\\baseline\\\\cf_features.pkl'\u001b[0m\u001b[1;33m,\u001b[0m \u001b[1;34m'rb'\u001b[0m\u001b[1;33m)\u001b[0m \u001b[1;32mas\u001b[0m \u001b[0mf\u001b[0m\u001b[1;33m:\u001b[0m\u001b[1;33m\u001b[0m\u001b[1;33m\u001b[0m\u001b[0m\n\u001b[0m\u001b[0;32m      3\u001b[0m     \u001b[0mcf_features_random\u001b[0m \u001b[1;33m=\u001b[0m \u001b[0mnp\u001b[0m\u001b[1;33m.\u001b[0m\u001b[0marray\u001b[0m\u001b[1;33m(\u001b[0m\u001b[0mpkl\u001b[0m\u001b[1;33m.\u001b[0m\u001b[0mload\u001b[0m\u001b[1;33m(\u001b[0m\u001b[0mf\u001b[0m\u001b[1;33m)\u001b[0m\u001b[1;33m)\u001b[0m\u001b[1;33m\u001b[0m\u001b[1;33m\u001b[0m\u001b[0m\n\u001b[0;32m      4\u001b[0m \u001b[1;32mwith\u001b[0m \u001b[0mopen\u001b[0m\u001b[1;33m(\u001b[0m\u001b[1;34m'datasets\\\\100mcts\\\\baseline\\org_features.pkl'\u001b[0m\u001b[1;33m,\u001b[0m \u001b[1;34m'rb'\u001b[0m\u001b[1;33m)\u001b[0m \u001b[1;32mas\u001b[0m \u001b[0mf\u001b[0m\u001b[1;33m:\u001b[0m\u001b[1;33m\u001b[0m\u001b[1;33m\u001b[0m\u001b[0m\n\u001b[0;32m      5\u001b[0m     \u001b[0morg_features_random\u001b[0m \u001b[1;33m=\u001b[0m \u001b[0mnp\u001b[0m\u001b[1;33m.\u001b[0m\u001b[0marray\u001b[0m\u001b[1;33m(\u001b[0m\u001b[0mpkl\u001b[0m\u001b[1;33m.\u001b[0m\u001b[0mload\u001b[0m\u001b[1;33m(\u001b[0m\u001b[0mf\u001b[0m\u001b[1;33m)\u001b[0m\u001b[1;33m)\u001b[0m\u001b[1;33m\u001b[0m\u001b[1;33m\u001b[0m\u001b[0m\n",
      "\u001b[1;31mFileNotFoundError\u001b[0m: [Errno 2] No such file or directory: 'datasets\\\\100mcts\\\\baseline\\\\cf_features.pkl'"
     ]
    }
   ],
   "source": [
    "# Load the data\n",
    "with open('datasets\\\\100mcts\\\\baseline\\\\cf_features.pkl', 'rb') as f:\n",
    "    cf_features_random = np.array(pkl.load(f))\n",
    "with open('datasets\\\\100mcts\\\\baseline\\org_features.pkl', 'rb') as f:\n",
    "    org_features_random = np.array(pkl.load(f))\n",
    "with open('datasets\\\\100mcts\\\\100\\cf_features.pkl', 'rb') as f:\n",
    "    cf_features_mcts = np.array(pkl.load(f))\n",
    "with open('datasets\\\\100mcts\\\\100\\org_features.pkl', 'rb') as f:\n",
    "    org_features_mcts = np.array(pkl.load(f))\n",
    "with open('datasets\\\\1000\\\\1000\\cf_features.pkl', 'rb') as f:\n",
    "    cf_features_step = np.array(pkl.load(f))\n",
    "with open('datasets\\\\1000\\\\1000\\org_features.pkl', 'rb') as f:\n",
    "    org_features_step = np.array(pkl.load(f))"
   ]
  },
  {
   "cell_type": "code",
   "execution_count": null,
   "metadata": {},
   "outputs": [],
   "source": [
    "feat1_random = cf_features_random[:,0] - org_features_random[:,0]\n",
    "feat2_random = cf_features_random[:,1] - org_features_random[:,1]\n",
    "feat3_random = cf_features_random[:,2] - org_features_random[:,2]\n",
    "feat4_random = cf_features_random[:,3] - org_features_random[:,3]\n",
    "feat5_random = cf_features_random[:,4] - org_features_random[:,4]\n",
    "feat6_random = cf_features_random[:,5] - org_features_random[:,5]\n",
    "feat7_random = cf_features_random[:,6] - org_features_random[:,6]\n",
    "feat8_random = cf_features_random[:,7] - org_features_random[:,7]\n",
    "labels_random = cf_features_random[:,8] - org_features_random[:,8]\n",
    "feat1_step = cf_features_step[:,0] - org_features_step[:,0]\n",
    "feat2_step = cf_features_step[:,1] - org_features_step[:,1]\n",
    "feat3_step = cf_features_step[:,2] - org_features_step[:,2]\n",
    "feat4_step = cf_features_step[:,3] - org_features_step[:,3]\n",
    "feat5_step = cf_features_step[:,4] - org_features_step[:,4]\n",
    "feat6_step = cf_features_step[:,5] - org_features_step[:,5]\n",
    "feat7_step = cf_features_step[:,6] - org_features_step[:,6]\n",
    "feat8_step = cf_features_step[:,7] - org_features_step[:,7]\n",
    "labels_step = cf_features_step[:,8] - org_features_step[:,8]\n",
    "feat1_mcts = cf_features_mcts[:,0] - org_features_mcts[:,0]\n",
    "feat2_mcts = cf_features_mcts[:,1] - org_features_mcts[:,1]\n",
    "feat3_mcts = cf_features_mcts[:,2] - org_features_mcts[:,2]\n",
    "feat4_mcts = cf_features_mcts[:,3] - org_features_mcts[:,3]\n",
    "feat5_mcts = cf_features_mcts[:,4] - org_features_mcts[:,4]\n",
    "feat6_mcts = cf_features_mcts[:,5] - org_features_mcts[:,5]\n",
    "feat7_mcts = cf_features_mcts[:,6] - org_features_mcts[:,6]\n",
    "feat8_mcts = cf_features_mcts[:,7] - org_features_mcts[:,7]\n",
    "labels_mcts = cf_features_mcts[:,8] - org_features_mcts[:,8]"
   ]
  },
  {
   "cell_type": "code",
   "execution_count": null,
   "metadata": {},
   "outputs": [],
   "source": [
    "x = np.arange(100)\n",
    "y_mcts = sorted(feat8_mcts[:100])\n",
    "y_step = sorted(feat8_step[:100])\n",
    "y_random = sorted(feat8_random[:100])\n",
    "plt.figure(figsize=(10,10))\n",
    "plt.scatter(x, y_mcts, label='mcts')\n",
    "plt.scatter(x, y_step, label='step')\n",
    "plt.scatter(x, y_random, label='random')\n",
    "plt.title('moved_towards_closest_citizens')\n",
    "plt.legend()\n",
    "plt.show()"
   ]
  }
 ],
 "metadata": {
  "kernelspec": {
   "display_name": "Python 3",
   "language": "python",
   "name": "python3"
  },
  "language_info": {
   "codemirror_mode": {
    "name": "ipython",
    "version": 3
   },
   "file_extension": ".py",
   "mimetype": "text/x-python",
   "name": "python",
   "nbconvert_exporter": "python",
   "pygments_lexer": "ipython3",
   "version": "3.8.8"
  }
 },
 "nbformat": 4,
 "nbformat_minor": 2
}
